{
  "nbformat": 4,
  "nbformat_minor": 0,
  "metadata": {
    "colab": {
      "private_outputs": true,
      "provenance": [],
      "gpuType": "L4",
      "machine_shape": "hm",
      "include_colab_link": true
    },
    "kernelspec": {
      "name": "python3",
      "display_name": "Python 3"
    },
    "language_info": {
      "name": "python"
    },
    "accelerator": "GPU"
  },
  "cells": [
    {
      "cell_type": "markdown",
      "metadata": {
        "id": "view-in-github",
        "colab_type": "text"
      },
      "source": [
        "<a href=\"https://colab.research.google.com/github/khadkechetan/information_extraction/blob/main/LLM/qwen-vl/Information_extraction_Qwen2_7B.ipynb\" target=\"_parent\"><img src=\"https://colab.research.google.com/assets/colab-badge.svg\" alt=\"Open In Colab\"/></a>"
      ]
    },
    {
      "cell_type": "code",
      "source": [
        "!pip install qwen-vl-utils\n",
        "!pip install -U bitsandbytes\n",
        "!pip install flash-attn --no-build-isolation\n",
        "!pip install git+https://github.com/huggingface/transformers"
      ],
      "metadata": {
        "id": "DQKv-0qZtOLo"
      },
      "execution_count": null,
      "outputs": []
    },
    {
      "cell_type": "code",
      "source": [
        "import torch\n",
        "from pprint import pprint\n",
        "from qwen_vl_utils import process_vision_info\n",
        "from transformers import Qwen2VLForConditionalGeneration, AutoTokenizer, AutoProcessor"
      ],
      "metadata": {
        "id": "UPegUSqotGnN"
      },
      "execution_count": null,
      "outputs": []
    },
    {
      "cell_type": "code",
      "source": [],
      "metadata": {
        "id": "LEbJ-Kl7rQnz"
      },
      "execution_count": null,
      "outputs": []
    },
    {
      "cell_type": "code",
      "source": [
        "# This require atleast 22 GB of GPU RAM\n",
        "model = Qwen2VLForConditionalGeneration.from_pretrained(\n",
        "    \"Qwen/Qwen2-VL-7B-Instruct\",\n",
        "    torch_dtype=torch.bfloat16,\n",
        "    device_map=\"cuda\",\n",
        ")\n",
        "\n",
        "# If you have only 16 GM of GPU RAM then use the below code\n",
        "# model = Qwen2VLForConditionalGeneration.from_pretrained(\n",
        "#     \"Qwen/Qwen2-VL-7B-Instruct\",\n",
        "#     torch_dtype=torch.bfloat16,\n",
        "#     attn_implementation=\"flash_attention_2\",\n",
        "#     device_map=\"auto\",\n",
        "#     load_in_8bit=True,\n",
        "# )\n",
        "\n",
        "# default processer\n",
        "processor = AutoProcessor.from_pretrained(\"Qwen/Qwen2-VL-7B-Instruct\")\n",
        "# The default range for the number of visual tokens per image in the model is 4-16384. You can set min_pixels and max_pixels according to your needs, such as a token count range of 256-1280, to balance speed and memory usage.\n",
        "min_pixels = 256*28*28\n",
        "max_pixels = 1280*28*28\n",
        "processor = AutoProcessor.from_pretrained(\"Qwen/Qwen2-VL-7B-Instruct\", min_pixels=min_pixels, max_pixels=max_pixels)"
      ],
      "metadata": {
        "id": "tVMvXM6ty6rx"
      },
      "execution_count": null,
      "outputs": []
    },
    {
      "cell_type": "code",
      "source": [],
      "metadata": {
        "id": "6rcKqiy1w25I"
      },
      "execution_count": null,
      "outputs": []
    },
    {
      "cell_type": "code",
      "execution_count": null,
      "metadata": {
        "id": "1ZyAa36ts5OW"
      },
      "outputs": [],
      "source": [
        "def generate_image_response(question, image_path):\n",
        "\n",
        "  messages = [\n",
        "      {\n",
        "          \"role\": \"user\",\n",
        "          \"content\": [\n",
        "              {\n",
        "                  \"type\": \"image\",\n",
        "                  \"image\": f\"{image_path}\",\n",
        "              },\n",
        "              {\"type\": \"text\",\n",
        "              \"text\": question},\n",
        "          ],\n",
        "      }\n",
        "  ]\n",
        "\n",
        "  # Preparation for inference\n",
        "  text = processor.apply_chat_template(\n",
        "      messages, tokenize=False, add_generation_prompt=True\n",
        "  )\n",
        "  image_inputs, video_inputs = process_vision_info(messages)\n",
        "  inputs = processor(\n",
        "      text=[text],\n",
        "      images=image_inputs,\n",
        "      videos=video_inputs,\n",
        "      padding=True,\n",
        "      return_tensors=\"pt\",\n",
        "  )\n",
        "  inputs = inputs.to(\"cuda\")\n",
        "\n",
        "  # Inference: Generation of the output\n",
        "  generated_ids = model.generate(**inputs, max_new_tokens=1024)\n",
        "  generated_ids_trimmed = [\n",
        "      out_ids[len(in_ids) :] for in_ids, out_ids in zip(inputs.input_ids, generated_ids)\n",
        "  ]\n",
        "\n",
        "  output_text = processor.batch_decode(\n",
        "      generated_ids_trimmed, skip_special_tokens=True, clean_up_tokenization_spaces=False\n",
        "  )\n",
        "  response = {\"question\": question, \"Answer\": output_text[0] }\n",
        "  return response\n"
      ]
    },
    {
      "cell_type": "markdown",
      "source": [
        "**Payment_Summary.jpg**"
      ],
      "metadata": {
        "id": "ZbqJayvC4PUQ"
      }
    },
    {
      "cell_type": "code",
      "source": [
        "image_path = \"/content/Payment_Summary.jpg\"\n",
        "question = \"Describe this image in detail. What kind of information is present?\"\n",
        "response = generate_image_response(question, image_path)\n",
        "response"
      ],
      "metadata": {
        "id": "lzRwCx_y4CAK"
      },
      "execution_count": null,
      "outputs": []
    },
    {
      "cell_type": "code",
      "source": [
        "question = \"Please return me Image OCR text only?\"\n",
        "response = generate_image_response(question, image_path)\n",
        "response"
      ],
      "metadata": {
        "id": "zzlOKMqB4hH5"
      },
      "execution_count": null,
      "outputs": []
    },
    {
      "cell_type": "code",
      "source": [
        "question = \"What is Paytm Order ID present in the Image OCR?\"\n",
        "response = generate_image_response(question, image_path)\n",
        "response"
      ],
      "metadata": {
        "id": "AvgCudGT4CC2"
      },
      "execution_count": null,
      "outputs": []
    },
    {
      "cell_type": "code",
      "source": [
        "question = \"what is Booking Charge?\"\n",
        "response = generate_image_response(question, image_path)\n",
        "response"
      ],
      "metadata": {
        "id": "MMIFzia34lUJ"
      },
      "execution_count": null,
      "outputs": []
    },
    {
      "cell_type": "code",
      "source": [
        "question = \"what is Central Goods and Service Tax?\"\n",
        "response = generate_image_response(question, image_path)\n",
        "response"
      ],
      "metadata": {
        "id": "PjTprKTf4CFs"
      },
      "execution_count": null,
      "outputs": []
    },
    {
      "cell_type": "code",
      "source": [
        "question = \"what is Central Goods and Service Tax value present in the image?\"\n",
        "response = generate_image_response(question, image_path)\n",
        "response"
      ],
      "metadata": {
        "id": "uVW0OXGW4YWK"
      },
      "execution_count": null,
      "outputs": []
    },
    {
      "cell_type": "code",
      "source": [
        "question = \"State Goods and Service Tax\"\n",
        "response = generate_image_response(question, image_path)\n",
        "response"
      ],
      "metadata": {
        "id": "3nvnqJYx4YY0"
      },
      "execution_count": null,
      "outputs": []
    },
    {
      "cell_type": "code",
      "source": [],
      "metadata": {
        "id": "9BA4zWwQ4yt_"
      },
      "execution_count": null,
      "outputs": []
    },
    {
      "cell_type": "markdown",
      "source": [
        "**Invoice_sample1.jpg**"
      ],
      "metadata": {
        "id": "wBoQrGv44y3n"
      }
    },
    {
      "cell_type": "code",
      "source": [
        "image_path = \"/content/Invoice_sample1.png\"\n",
        "question = \"Describe this image in detail. What kind of information is present?\"\n",
        "response = generate_image_response(question, image_path)\n",
        "response"
      ],
      "metadata": {
        "id": "Ds-guSMK41B0"
      },
      "execution_count": null,
      "outputs": []
    },
    {
      "cell_type": "code",
      "source": [
        "question = \"What is invoice no present in the image?\"\n",
        "response = generate_image_response(question, image_path)\n",
        "response"
      ],
      "metadata": {
        "id": "JRdpzsed41Et"
      },
      "execution_count": null,
      "outputs": []
    },
    {
      "cell_type": "code",
      "source": [
        "question = \"What is the client name present in the image?\"\n",
        "response = generate_image_response(question, image_path)\n",
        "response"
      ],
      "metadata": {
        "id": "eiByyRZU41HS"
      },
      "execution_count": null,
      "outputs": []
    },
    {
      "cell_type": "code",
      "source": [
        "question = \"What is the date of issue present in the image?\"\n",
        "response = generate_image_response(question, image_path)\n",
        "response"
      ],
      "metadata": {
        "id": "pCo98MFb41Jd"
      },
      "execution_count": null,
      "outputs": []
    },
    {
      "cell_type": "code",
      "source": [
        "question = \"What is IBAN no present in the image?\"\n",
        "response = generate_image_response(question, image_path)\n",
        "response"
      ],
      "metadata": {
        "id": "88sWKre941L1"
      },
      "execution_count": null,
      "outputs": []
    },
    {
      "cell_type": "code",
      "source": [
        "question = \"What is seller address in the given image?\"\n",
        "response = generate_image_response(question, image_path)\n",
        "response"
      ],
      "metadata": {
        "id": "5p832bqG41OZ"
      },
      "execution_count": null,
      "outputs": []
    },
    {
      "cell_type": "code",
      "source": [
        "question = \"What is the seller and client name in the image?\"\n",
        "response = generate_image_response(question, image_path)\n",
        "response"
      ],
      "metadata": {
        "id": "IwiEBGZz5ajy"
      },
      "execution_count": null,
      "outputs": []
    },
    {
      "cell_type": "code",
      "source": [
        "question = \"What is the seller and client pin code in the image?\"\n",
        "response = generate_image_response(question, image_path)\n",
        "response"
      ],
      "metadata": {
        "id": "na4wk2_05am0"
      },
      "execution_count": null,
      "outputs": []
    },
    {
      "cell_type": "code",
      "source": [
        "question = \"What is the states present in the image?\"\n",
        "response = generate_image_response(question, image_path)\n",
        "response"
      ],
      "metadata": {
        "id": "8gpDleNu5apg"
      },
      "execution_count": null,
      "outputs": []
    },
    {
      "cell_type": "code",
      "source": [
        "question = \"What is the total net worth?\"\n",
        "response = generate_image_response(question, image_path)\n",
        "response"
      ],
      "metadata": {
        "id": "wsCtOamz5asE"
      },
      "execution_count": null,
      "outputs": []
    },
    {
      "cell_type": "code",
      "source": [
        "question = \"What is the total gross worth?\"\n",
        "response = generate_image_response(question, image_path)\n",
        "response"
      ],
      "metadata": {
        "id": "GQU9Ybsd5auf"
      },
      "execution_count": null,
      "outputs": []
    },
    {
      "cell_type": "code",
      "source": [
        "question = \"What is the gross worth if Net price 29,26 and New worth 59,92 present in image'?\"\n",
        "response = generate_image_response(question, image_path)\n",
        "response"
      ],
      "metadata": {
        "id": "m2jaSze55axQ"
      },
      "execution_count": null,
      "outputs": []
    },
    {
      "cell_type": "code",
      "source": [
        "question = \"What is the gross worth if Net price 29,26 and New worth 59,92 ?\"\n",
        "response = generate_image_response(question, image_path)\n",
        "response"
      ],
      "metadata": {
        "id": "3ZCrAqTp5azh"
      },
      "execution_count": null,
      "outputs": []
    },
    {
      "cell_type": "code",
      "source": [
        "question = \"What is the gross worth if Net price 2800,00 and New worth 5400,00?\"\n",
        "response = generate_image_response(question, image_path)\n",
        "response"
      ],
      "metadata": {
        "id": "f-f6UN005nYS"
      },
      "execution_count": null,
      "outputs": []
    }
  ]
}